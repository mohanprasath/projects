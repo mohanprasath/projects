{
 "cells": [
  {
   "cell_type": "markdown",
   "metadata": {},
   "source": [
    "# Chapter 6: stroring and manipulating data - Where to Put Your Data"
   ]
  },
  {
   "cell_type": "code",
   "execution_count": null,
   "metadata": {},
   "outputs": [],
   "source": [
    "'''\n",
    "Notes:\n",
    "1. File open modes - r read, a append, w write, x new file.\n",
    "2. using with takes care of file close automatically and knows \n",
    "    the context of the file in use. NEW INFO\n",
    "3. \n",
    "'''"
   ]
  },
  {
   "cell_type": "code",
   "execution_count": 4,
   "metadata": {
    "ExecuteTime": {
     "end_time": "2020-02-28T18:42:37.287092Z",
     "start_time": "2020-02-28T18:42:37.276622Z"
    }
   },
   "outputs": [
    {
     "name": "stdout",
     "output_type": "stream",
     "text": [
      "Put out the trash.\n",
      "Feed the cat.\n",
      "Prepare the tax return.\n"
     ]
    }
   ],
   "source": [
    "# file - example\n",
    "todos = open('todos.txt', 'a') \n",
    "print('Put out the trash.', file=todos)\n",
    "print('Feed the cat.', file=todos)\n",
    "print('Prepare the tax return.', file=todos)\n",
    "todos.close()\n",
    "# reading out the file\n",
    "with open('todos.txt') as outfile: # \n",
    "    for line in outfile:\n",
    "        print(line, end='') # end='' reduces the extra line between print stmt."
   ]
  },
  {
   "cell_type": "code",
   "execution_count": null,
   "metadata": {},
   "outputs": [],
   "source": [
    "# vsearch4web.py - file modified to write request and res to a text file\n",
    "# check it out in the py file"
   ]
  }
 ],
 "metadata": {
  "kernelspec": {
   "display_name": "Python 3",
   "language": "python",
   "name": "python3"
  },
  "language_info": {
   "codemirror_mode": {
    "name": "ipython",
    "version": 3
   },
   "file_extension": ".py",
   "mimetype": "text/x-python",
   "name": "python",
   "nbconvert_exporter": "python",
   "pygments_lexer": "ipython3",
   "version": "3.6.10"
  }
 },
 "nbformat": 4,
 "nbformat_minor": 4
}

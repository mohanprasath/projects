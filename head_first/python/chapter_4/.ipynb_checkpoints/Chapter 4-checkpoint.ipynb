{
 "cells": [
  {
   "cell_type": "markdown",
   "metadata": {},
   "source": [
    "# Chapter 4: Code Reuse; Functions & Modules"
   ]
  },
  {
   "cell_type": "code",
   "execution_count": null,
   "metadata": {},
   "outputs": [],
   "source": [
    "'''\n",
    "Notes:\n",
    "* functions are to support modularity\n",
    "* key words: def, return\n",
    "* docstring - \"\"\" everything here is a docstring \"\"\"\n",
    "* bool(default_arg) - default method, evaluates if the default_arg is good or bad\n",
    "'''"
   ]
  },
  {
   "cell_type": "code",
   "execution_count": 6,
   "metadata": {},
   "outputs": [
    {
     "name": "stdout",
     "output_type": "stream",
     "text": [
      "Provide a word to search for vowels:testing \n",
      "i\n",
      "e\n"
     ]
    },
    {
     "data": {
      "text/plain": [
       "True"
      ]
     },
     "execution_count": 6,
     "metadata": {},
     "output_type": "execute_result"
    }
   ],
   "source": [
    "# example - function\n",
    "def search4vowels(word):\n",
    "    \"\"\"\n",
    "    Identified the vowels in the user entry and prints them\n",
    "    \"\"\"\n",
    "    vowels = set('aeiou')\n",
    "    found = vowels.intersection(set(word))\n",
    "    for vowel in found:\n",
    "        print(vowel)\n",
    "    return bool(found)\n",
    "search4vowels(input(\"Provide a word to search for vowels:\"))"
   ]
  },
  {
   "cell_type": "code",
   "execution_count": 5,
   "metadata": {},
   "outputs": [
    {
     "name": "stdout",
     "output_type": "stream",
     "text": [
      "False True False True\n"
     ]
    }
   ],
   "source": [
    "# example - bool()\n",
    "print(bool([]), bool([1]), bool(0), bool(1))"
   ]
  },
  {
   "cell_type": "code",
   "execution_count": 10,
   "metadata": {},
   "outputs": [
    {
     "name": "stdout",
     "output_type": "stream",
     "text": [
      "{'i', 'e'}\n",
      "{'i', 'e'}\n",
      "Help on function search4letters in module __main__:\n",
      "\n",
      "search4letters(phrase:str, letters:str) -> str\n",
      "    Returns a set of the 'letters' found in 'phrase'\n",
      "\n"
     ]
    }
   ],
   "source": [
    "# function annotation example\n",
    "def search4vowels(phrase:str) -> set:\n",
    "    \"\"\" Finds the vowels in the given phrases and returns them as a set\"\"\"\n",
    "    vowels = (set('aeiou'))\n",
    "    return vowels.intersection(set(phrase))\n",
    "\n",
    "def search4letters(phrase:str, letters:str) -> str:\n",
    "    \"\"\"Returns a set of the 'letters' found in 'phrase'\"\"\"\n",
    "    return set(letters).intersection(set(phrase))\n",
    "\n",
    "print(search4vowels('hitch-hiker'))\n",
    "print(search4letters('hitch-hiker', 'aeiou'))\n",
    "help(search4letters)"
   ]
  },
  {
   "cell_type": "code",
   "execution_count": 11,
   "metadata": {},
   "outputs": [
    {
     "name": "stdout",
     "output_type": "stream",
     "text": [
      "{'i', 'e'}\n"
     ]
    }
   ],
   "source": [
    "# default arguments -  example\n",
    "def search4letters(phrase:str, letters:str='aeiou') -> str:\n",
    "    \"\"\"Returns a set of the 'letters' found in 'phrase'\"\"\"\n",
    "    return set(letters).intersection(set(phrase))\n",
    "print(search4letters('hitch-hiker'))"
   ]
  },
  {
   "cell_type": "code",
   "execution_count": 14,
   "metadata": {},
   "outputs": [
    {
     "name": "stdout",
     "output_type": "stream",
     "text": [
      "{'i', 'e'}\n",
      "{'i', 'e'}\n"
     ]
    }
   ],
   "source": [
    "# positional vs keyword argument\n",
    "print(search4letters(letters='aeiou', phrase='hitch-hiker')) # keyword assignment\n",
    "print(search4letters('hitch-hiker', 'aeiou')) # positional assignment"
   ]
  },
  {
   "cell_type": "code",
   "execution_count": 16,
   "metadata": {},
   "outputs": [
    {
     "name": "stdout",
     "output_type": "stream",
     "text": [
      "8\n"
     ]
    }
   ],
   "source": [
    "# modules - example\n",
    "import random # is the module\n",
    "number = random.randint(0, 29) # randint is a function in the module random\n",
    "print(number)"
   ]
  },
  {
   "cell_type": "code",
   "execution_count": null,
   "metadata": {},
   "outputs": [],
   "source": [
    "'''\n",
    "note: \n",
    "1. if the module is in a file, at the import use the file name\n",
    "2. if the module is inside a directory, in the same folder as the python file,\n",
    "then use the directory_name.file_name in the import\n",
    "3. another way would be to set the path to the dir of the file to be imported \n",
    "then import it, but this should be tested in cases by case scenario\n",
    "4. TODO search for other import types\n",
    "5. site packages, read about setuptools\n",
    "    create(1), generate(2), and install(3) the distribution file\n",
    "    the main idea of this setuptools is that it allows the code to be imported\n",
    "    into the interpreter for any codebase, since the module is in the site-\n",
    "    packages\n",
    "'''"
   ]
  },
  {
   "cell_type": "code",
   "execution_count": 24,
   "metadata": {},
   "outputs": [
    {
     "name": "stdout",
     "output_type": "stream",
     "text": [
      "[1, 3, 4, 5]\n",
      "[1, 4, 9, 16, 25, 36]\n"
     ]
    }
   ],
   "source": [
    "# call-by-value, call-by-reference(address) : types of argument passing\n",
    "# NOTE; BOTH ARE SUPPORTED IN PYTHON\n",
    "def sample(l): # by-reference\n",
    "    l[0] = 1\n",
    "t = [2, 3, 4, 5]\n",
    "sample(t)\n",
    "print(t)\n",
    "\n",
    "def sample2(l): # by-value\n",
    "    print(list(entry**2 for entry in l))\n",
    "t = [1, 2, 3, 4, 5, 6]\n",
    "sample2(t)"
   ]
  },
  {
   "cell_type": "code",
   "execution_count": null,
   "metadata": {},
   "outputs": [],
   "source": [
    "# testing for pep8 compliance\n",
    "# py.test --pep8 file_name"
   ]
  }
 ],
 "metadata": {
  "kernelspec": {
   "display_name": "Python 3",
   "language": "python",
   "name": "python3"
  },
  "language_info": {
   "codemirror_mode": {
    "name": "ipython",
    "version": 3
   },
   "file_extension": ".py",
   "mimetype": "text/x-python",
   "name": "python",
   "nbconvert_exporter": "python",
   "pygments_lexer": "ipython3",
   "version": "3.6.9"
  }
 },
 "nbformat": 4,
 "nbformat_minor": 2
}
